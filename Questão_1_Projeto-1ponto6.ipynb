{
 "cells": [
  {
   "cell_type": "code",
   "execution_count": 1,
   "metadata": {
    "id": "h5ITEP_OzPLB"
   },
   "outputs": [],
   "source": [
    "import pandas as pd\n",
    "import sys"
   ]
  },
  {
   "cell_type": "code",
   "execution_count": 2,
   "metadata": {
    "colab": {
     "base_uri": "https://localhost:8080/"
    },
    "id": "yt1KUHkSn6HE",
    "outputId": "828629a3-b3c2-4575-cb13-51d04dc5c633"
   },
   "outputs": [
    {
     "name": "stdout",
     "output_type": "stream",
     "text": [
      "Defaulting to user installation because normal site-packages is not writeable\n",
      "Looking in indexes: https://pypi.org/simple, https://pypi.ngc.nvidia.com\n",
      "Requirement already satisfied: scipy in /opt/conda/lib/python3.6/site-packages (1.5.4)\n",
      "Requirement already satisfied: numpy>=1.14.5 in /opt/conda/lib/python3.6/site-packages (from scipy) (1.18.5)\n"
     ]
    }
   ],
   "source": [
    "!{sys.executable} -m pip install scipy\n",
    "from scipy.spatial.distance import pdist"
   ]
  },
  {
   "cell_type": "code",
   "execution_count": 3,
   "metadata": {
    "id": "GHjiS03fLSsG"
   },
   "outputs": [],
   "source": [
    "import numpy as np\n",
    "from scipy.spatial.distance import squareform"
   ]
  },
  {
   "cell_type": "code",
   "execution_count": 4,
   "metadata": {
    "id": "Jj-qH2lj5fBu"
   },
   "outputs": [],
   "source": [
    "import random\n",
    "from random import uniform, randrange\n",
    "import statistics\n",
    "from numpy import linalg as LA"
   ]
  },
  {
   "cell_type": "code",
   "execution_count": null,
   "metadata": {},
   "outputs": [],
   "source": [
    "from tqdm.notebook import tqdm\n",
    "from collections import Counter"
   ]
  },
  {
   "cell_type": "markdown",
   "metadata": {
    "id": "A1gM6sjWzByf"
   },
   "source": [
    "# Etapa 1 - Calcular matrizes de dissimilaridade"
   ]
  },
  {
   "cell_type": "markdown",
   "metadata": {
    "id": "wkrsjnmlrKY3"
   },
   "source": [
    "## Extração dos dados "
   ]
  },
  {
   "cell_type": "code",
   "execution_count": 6,
   "metadata": {
    "colab": {
     "base_uri": "https://localhost:8080/"
    },
    "id": "iZ120VlNzGdb",
    "outputId": "0526ecd6-3d3c-4967-821f-411f93988273"
   },
   "outputs": [
    {
     "name": "stdout",
     "output_type": "stream",
     "text": [
      " AM_Não_supervisionado_Questão1.ipynb\r\n",
      " AM_supervisionado_Questão_2-solut.ipynb\r\n",
      " Cópia_de_Missao_Projeto_Swarm_Behaviour_Data_Set.ipynb\r\n",
      "'Questão 2-Copy1.ipynb'\r\n",
      "'Questão 2.ipynb'\r\n",
      " Questão_1_Projeto-1ponto5.ipynb\r\n",
      " Questão_1_Projeto-2.ipynb\r\n",
      " Questão_1_Projeto_.ipynb\r\n",
      "'Questão_1_Projeto_1ponto1(1).ipynb'\r\n",
      " Questão_1_Projeto_1ponto1.ipynb\r\n",
      "'Swarm Behavior Data'\r\n",
      "'Swarm Behavior Data (1).zip'\r\n",
      " avila\r\n",
      " avila.zip\r\n",
      " iteracoes\r\n",
      "'m=2 .ipynb'\r\n",
      "'melhor-resultado-m=2.csv'\r\n",
      "'melhor-resultado-m={m}'\r\n",
      "'pesos-m=2-0-iteracao0.npy'\r\n",
      "'pesos-m=2-0-iteracao1.npy'\r\n",
      "'pesos-m=2-0-iteracao10.npy'\r\n",
      "'pesos-m=2-0-iteracao11.npy'\r\n",
      "'pesos-m=2-0-iteracao12.npy'\r\n",
      "'pesos-m=2-0-iteracao13.npy'\r\n",
      "'pesos-m=2-0-iteracao14.npy'\r\n",
      "'pesos-m=2-0-iteracao15.npy'\r\n",
      "'pesos-m=2-0-iteracao16.npy'\r\n",
      "'pesos-m=2-0-iteracao17.npy'\r\n",
      "'pesos-m=2-0-iteracao18.npy'\r\n",
      "'pesos-m=2-0-iteracao19.npy'\r\n",
      "'pesos-m=2-0-iteracao2.npy'\r\n",
      "'pesos-m=2-0-iteracao20.npy'\r\n",
      "'pesos-m=2-0-iteracao21.npy'\r\n",
      "'pesos-m=2-0-iteracao22.npy'\r\n",
      "'pesos-m=2-0-iteracao23.npy'\r\n",
      "'pesos-m=2-0-iteracao24.npy'\r\n",
      "'pesos-m=2-0-iteracao25.npy'\r\n",
      "'pesos-m=2-0-iteracao26.npy'\r\n",
      "'pesos-m=2-0-iteracao27.npy'\r\n",
      "'pesos-m=2-0-iteracao28.npy'\r\n",
      "'pesos-m=2-0-iteracao29.npy'\r\n",
      "'pesos-m=2-0-iteracao3.npy'\r\n",
      "'pesos-m=2-0-iteracao30.npy'\r\n",
      "'pesos-m=2-0-iteracao31.npy'\r\n",
      "'pesos-m=2-0-iteracao32.npy'\r\n",
      "'pesos-m=2-0-iteracao33.npy'\r\n",
      "'pesos-m=2-0-iteracao34.npy'\r\n",
      "'pesos-m=2-0-iteracao35.npy'\r\n",
      "'pesos-m=2-0-iteracao36.npy'\r\n",
      "'pesos-m=2-0-iteracao37.npy'\r\n",
      "'pesos-m=2-0-iteracao38.npy'\r\n",
      "'pesos-m=2-0-iteracao39.npy'\r\n",
      "'pesos-m=2-0-iteracao4.npy'\r\n",
      "'pesos-m=2-0-iteracao40.npy'\r\n",
      "'pesos-m=2-0-iteracao41.npy'\r\n",
      "'pesos-m=2-0-iteracao42.npy'\r\n",
      "'pesos-m=2-0-iteracao43.npy'\r\n",
      "'pesos-m=2-0-iteracao44.npy'\r\n",
      "'pesos-m=2-0-iteracao45.npy'\r\n",
      "'pesos-m=2-0-iteracao46.npy'\r\n",
      "'pesos-m=2-0-iteracao47.npy'\r\n",
      "'pesos-m=2-0-iteracao48.npy'\r\n",
      "'pesos-m=2-0-iteracao49.npy'\r\n",
      "'pesos-m=2-0-iteracao5.npy'\r\n",
      "'pesos-m=2-0-iteracao6.npy'\r\n",
      "'pesos-m=2-0-iteracao7.npy'\r\n",
      "'pesos-m=2-0-iteracao8.npy'\r\n",
      "'pesos-m=2-0-iteracao9.npy'\r\n",
      "'pesos-m=2-1-iteracao0.npy'\r\n",
      "'pesos-m=2-1-iteracao1.npy'\r\n",
      "'pesos-m=2-1-iteracao10.npy'\r\n",
      "'pesos-m=2-1-iteracao11.npy'\r\n",
      "'pesos-m=2-1-iteracao12.npy'\r\n",
      "'pesos-m=2-1-iteracao13.npy'\r\n",
      "'pesos-m=2-1-iteracao14.npy'\r\n",
      "'pesos-m=2-1-iteracao15.npy'\r\n",
      "'pesos-m=2-1-iteracao16.npy'\r\n",
      "'pesos-m=2-1-iteracao17.npy'\r\n",
      "'pesos-m=2-1-iteracao18.npy'\r\n",
      "'pesos-m=2-1-iteracao19.npy'\r\n",
      "'pesos-m=2-1-iteracao2.npy'\r\n",
      "'pesos-m=2-1-iteracao20.npy'\r\n",
      "'pesos-m=2-1-iteracao21.npy'\r\n",
      "'pesos-m=2-1-iteracao22.npy'\r\n",
      "'pesos-m=2-1-iteracao23.npy'\r\n",
      "'pesos-m=2-1-iteracao24.npy'\r\n",
      "'pesos-m=2-1-iteracao25.npy'\r\n",
      "'pesos-m=2-1-iteracao26.npy'\r\n",
      "'pesos-m=2-1-iteracao27.npy'\r\n",
      "'pesos-m=2-1-iteracao28.npy'\r\n",
      "'pesos-m=2-1-iteracao29.npy'\r\n",
      "'pesos-m=2-1-iteracao3.npy'\r\n",
      "'pesos-m=2-1-iteracao30.npy'\r\n",
      "'pesos-m=2-1-iteracao31.npy'\r\n",
      "'pesos-m=2-1-iteracao32.npy'\r\n",
      "'pesos-m=2-1-iteracao33.npy'\r\n",
      "'pesos-m=2-1-iteracao34.npy'\r\n",
      "'pesos-m=2-1-iteracao35.npy'\r\n",
      "'pesos-m=2-1-iteracao36.npy'\r\n",
      "'pesos-m=2-1-iteracao37.npy'\r\n",
      "'pesos-m=2-1-iteracao38.npy'\r\n",
      "'pesos-m=2-1-iteracao39.npy'\r\n",
      "'pesos-m=2-1-iteracao4.npy'\r\n",
      "'pesos-m=2-1-iteracao40.npy'\r\n",
      "'pesos-m=2-1-iteracao41.npy'\r\n",
      "'pesos-m=2-1-iteracao42.npy'\r\n",
      "'pesos-m=2-1-iteracao43.npy'\r\n",
      "'pesos-m=2-1-iteracao44.npy'\r\n",
      "'pesos-m=2-1-iteracao45.npy'\r\n",
      "'pesos-m=2-1-iteracao46.npy'\r\n",
      "'pesos-m=2-1-iteracao47.npy'\r\n",
      "'pesos-m=2-1-iteracao48.npy'\r\n",
      "'pesos-m=2-1-iteracao49.npy'\r\n",
      "'pesos-m=2-1-iteracao5.npy'\r\n",
      "'pesos-m=2-1-iteracao6.npy'\r\n",
      "'pesos-m=2-1-iteracao7.npy'\r\n",
      "'pesos-m=2-1-iteracao8.npy'\r\n",
      "'pesos-m=2-1-iteracao9.npy'\r\n",
      "'pesos-m=2-2-iteracao0.npy'\r\n",
      "'pesos-m=2-2-iteracao1.npy'\r\n",
      "'pesos-m=2-2-iteracao10.npy'\r\n",
      "'pesos-m=2-2-iteracao11.npy'\r\n",
      "'pesos-m=2-2-iteracao12.npy'\r\n",
      "'pesos-m=2-2-iteracao13.npy'\r\n",
      "'pesos-m=2-2-iteracao14.npy'\r\n",
      "'pesos-m=2-2-iteracao15.npy'\r\n",
      "'pesos-m=2-2-iteracao16.npy'\r\n",
      "'pesos-m=2-2-iteracao17.npy'\r\n",
      "'pesos-m=2-2-iteracao18.npy'\r\n",
      "'pesos-m=2-2-iteracao19.npy'\r\n",
      "'pesos-m=2-2-iteracao2.npy'\r\n",
      "'pesos-m=2-2-iteracao20.npy'\r\n",
      "'pesos-m=2-2-iteracao21.npy'\r\n",
      "'pesos-m=2-2-iteracao22.npy'\r\n",
      "'pesos-m=2-2-iteracao23.npy'\r\n",
      "'pesos-m=2-2-iteracao24.npy'\r\n",
      "'pesos-m=2-2-iteracao25.npy'\r\n",
      "'pesos-m=2-2-iteracao26.npy'\r\n",
      "'pesos-m=2-2-iteracao27.npy'\r\n",
      "'pesos-m=2-2-iteracao28.npy'\r\n",
      "'pesos-m=2-2-iteracao29.npy'\r\n",
      "'pesos-m=2-2-iteracao3.npy'\r\n",
      "'pesos-m=2-2-iteracao30.npy'\r\n",
      "'pesos-m=2-2-iteracao31.npy'\r\n",
      "'pesos-m=2-2-iteracao32.npy'\r\n",
      "'pesos-m=2-2-iteracao33.npy'\r\n",
      "'pesos-m=2-2-iteracao34.npy'\r\n",
      "'pesos-m=2-2-iteracao35.npy'\r\n",
      "'pesos-m=2-2-iteracao36.npy'\r\n",
      "'pesos-m=2-2-iteracao37.npy'\r\n",
      "'pesos-m=2-2-iteracao38.npy'\r\n",
      "'pesos-m=2-2-iteracao39.npy'\r\n",
      "'pesos-m=2-2-iteracao4.npy'\r\n",
      "'pesos-m=2-2-iteracao40.npy'\r\n",
      "'pesos-m=2-2-iteracao41.npy'\r\n",
      "'pesos-m=2-2-iteracao42.npy'\r\n",
      "'pesos-m=2-2-iteracao43.npy'\r\n",
      "'pesos-m=2-2-iteracao44.npy'\r\n",
      "'pesos-m=2-2-iteracao45.npy'\r\n",
      "'pesos-m=2-2-iteracao46.npy'\r\n",
      "'pesos-m=2-2-iteracao47.npy'\r\n",
      "'pesos-m=2-2-iteracao48.npy'\r\n",
      "'pesos-m=2-2-iteracao49.npy'\r\n",
      "'pesos-m=2-2-iteracao5.npy'\r\n",
      "'pesos-m=2-2-iteracao6.npy'\r\n",
      "'pesos-m=2-2-iteracao7.npy'\r\n",
      "'pesos-m=2-2-iteracao8.npy'\r\n",
      "'pesos-m=2-2-iteracao9.npy'\r\n",
      "'pesos-m=2-3-iteracao0.npy'\r\n",
      "'pesos-m=2-3-iteracao1.npy'\r\n",
      "'pesos-m=2-3-iteracao10.npy'\r\n",
      "'pesos-m=2-3-iteracao11.npy'\r\n",
      "'pesos-m=2-3-iteracao12.npy'\r\n",
      "'pesos-m=2-3-iteracao13.npy'\r\n",
      "'pesos-m=2-3-iteracao14.npy'\r\n",
      "'pesos-m=2-3-iteracao15.npy'\r\n",
      "'pesos-m=2-3-iteracao16.npy'\r\n",
      "'pesos-m=2-3-iteracao17.npy'\r\n",
      "'pesos-m=2-3-iteracao18.npy'\r\n",
      "'pesos-m=2-3-iteracao19.npy'\r\n",
      "'pesos-m=2-3-iteracao2.npy'\r\n",
      "'pesos-m=2-3-iteracao20.npy'\r\n",
      "'pesos-m=2-3-iteracao21.npy'\r\n",
      "'pesos-m=2-3-iteracao22.npy'\r\n",
      "'pesos-m=2-3-iteracao23.npy'\r\n",
      "'pesos-m=2-3-iteracao24.npy'\r\n",
      "'pesos-m=2-3-iteracao25.npy'\r\n",
      "'pesos-m=2-3-iteracao26.npy'\r\n",
      "'pesos-m=2-3-iteracao27.npy'\r\n",
      "'pesos-m=2-3-iteracao28.npy'\r\n",
      "'pesos-m=2-3-iteracao29.npy'\r\n",
      "'pesos-m=2-3-iteracao3.npy'\r\n",
      "'pesos-m=2-3-iteracao30.npy'\r\n",
      "'pesos-m=2-3-iteracao31.npy'\r\n",
      "'pesos-m=2-3-iteracao32.npy'\r\n",
      "'pesos-m=2-3-iteracao33.npy'\r\n",
      "'pesos-m=2-3-iteracao34.npy'\r\n",
      "'pesos-m=2-3-iteracao35.npy'\r\n",
      "'pesos-m=2-3-iteracao36.npy'\r\n",
      "'pesos-m=2-3-iteracao37.npy'\r\n",
      "'pesos-m=2-3-iteracao38.npy'\r\n",
      "'pesos-m=2-3-iteracao39.npy'\r\n",
      "'pesos-m=2-3-iteracao4.npy'\r\n",
      "'pesos-m=2-3-iteracao40.npy'\r\n",
      "'pesos-m=2-3-iteracao41.npy'\r\n",
      "'pesos-m=2-3-iteracao42.npy'\r\n",
      "'pesos-m=2-3-iteracao43.npy'\r\n",
      "'pesos-m=2-3-iteracao44.npy'\r\n",
      "'pesos-m=2-3-iteracao45.npy'\r\n",
      "'pesos-m=2-3-iteracao46.npy'\r\n",
      "'pesos-m=2-3-iteracao47.npy'\r\n",
      "'pesos-m=2-3-iteracao48.npy'\r\n",
      "'pesos-m=2-3-iteracao49.npy'\r\n",
      "'pesos-m=2-3-iteracao5.npy'\r\n",
      "'pesos-m=2-3-iteracao6.npy'\r\n",
      "'pesos-m=2-3-iteracao7.npy'\r\n",
      "'pesos-m=2-3-iteracao8.npy'\r\n",
      "'pesos-m=2-3-iteracao9.npy'\r\n",
      "'pesos-m=2-4-iteracao0.npy'\r\n",
      "'pesos-m=2-4-iteracao1.npy'\r\n",
      "'pesos-m=2-4-iteracao10.npy'\r\n",
      "'pesos-m=2-4-iteracao11.npy'\r\n",
      "'pesos-m=2-4-iteracao12.npy'\r\n",
      "'pesos-m=2-4-iteracao13.npy'\r\n",
      "'pesos-m=2-4-iteracao14.npy'\r\n",
      "'pesos-m=2-4-iteracao15.npy'\r\n",
      "'pesos-m=2-4-iteracao16.npy'\r\n",
      "'pesos-m=2-4-iteracao17.npy'\r\n",
      "'pesos-m=2-4-iteracao18.npy'\r\n",
      "'pesos-m=2-4-iteracao19.npy'\r\n",
      "'pesos-m=2-4-iteracao2.npy'\r\n",
      "'pesos-m=2-4-iteracao20.npy'\r\n",
      "'pesos-m=2-4-iteracao21.npy'\r\n",
      "'pesos-m=2-4-iteracao22.npy'\r\n",
      "'pesos-m=2-4-iteracao23.npy'\r\n",
      "'pesos-m=2-4-iteracao24.npy'\r\n",
      "'pesos-m=2-4-iteracao25.npy'\r\n",
      "'pesos-m=2-4-iteracao26.npy'\r\n",
      "'pesos-m=2-4-iteracao27.npy'\r\n",
      "'pesos-m=2-4-iteracao28.npy'\r\n",
      "'pesos-m=2-4-iteracao29.npy'\r\n",
      "'pesos-m=2-4-iteracao3.npy'\r\n",
      "'pesos-m=2-4-iteracao30.npy'\r\n",
      "'pesos-m=2-4-iteracao31.npy'\r\n",
      "'pesos-m=2-4-iteracao32.npy'\r\n",
      "'pesos-m=2-4-iteracao33.npy'\r\n",
      "'pesos-m=2-4-iteracao34.npy'\r\n",
      "'pesos-m=2-4-iteracao35.npy'\r\n",
      "'pesos-m=2-4-iteracao36.npy'\r\n",
      "'pesos-m=2-4-iteracao37.npy'\r\n",
      "'pesos-m=2-4-iteracao38.npy'\r\n",
      "'pesos-m=2-4-iteracao39.npy'\r\n",
      "'pesos-m=2-4-iteracao4.npy'\r\n",
      "'pesos-m=2-4-iteracao40.npy'\r\n",
      "'pesos-m=2-4-iteracao41.npy'\r\n",
      "'pesos-m=2-4-iteracao42.npy'\r\n",
      "'pesos-m=2-4-iteracao43.npy'\r\n",
      "'pesos-m=2-4-iteracao44.npy'\r\n",
      "'pesos-m=2-4-iteracao45.npy'\r\n",
      "'pesos-m=2-4-iteracao46.npy'\r\n",
      "'pesos-m=2-4-iteracao47.npy'\r\n",
      "'pesos-m=2-4-iteracao48.npy'\r\n",
      "'pesos-m=2-4-iteracao49.npy'\r\n",
      "'pesos-m=2-4-iteracao5.npy'\r\n",
      "'pesos-m=2-4-iteracao6.npy'\r\n",
      "'pesos-m=2-4-iteracao7.npy'\r\n",
      "'pesos-m=2-4-iteracao8.npy'\r\n",
      "'pesos-m=2-4-iteracao9.npy'\r\n",
      "'pesos-m=2-5-iteracao0.npy'\r\n",
      "'pesos-m=2-5-iteracao1.npy'\r\n",
      "'pesos-m=2-5-iteracao10.npy'\r\n",
      "'pesos-m=2-5-iteracao11.npy'\r\n",
      "'pesos-m=2-5-iteracao12.npy'\r\n",
      "'pesos-m=2-5-iteracao13.npy'\r\n",
      "'pesos-m=2-5-iteracao14.npy'\r\n",
      "'pesos-m=2-5-iteracao15.npy'\r\n",
      "'pesos-m=2-5-iteracao16.npy'\r\n",
      "'pesos-m=2-5-iteracao17.npy'\r\n",
      "'pesos-m=2-5-iteracao18.npy'\r\n",
      "'pesos-m=2-5-iteracao19.npy'\r\n",
      "'pesos-m=2-5-iteracao2.npy'\r\n",
      "'pesos-m=2-5-iteracao20.npy'\r\n",
      "'pesos-m=2-5-iteracao21.npy'\r\n",
      "'pesos-m=2-5-iteracao22.npy'\r\n",
      "'pesos-m=2-5-iteracao23.npy'\r\n",
      "'pesos-m=2-5-iteracao24.npy'\r\n",
      "'pesos-m=2-5-iteracao25.npy'\r\n",
      "'pesos-m=2-5-iteracao26.npy'\r\n",
      "'pesos-m=2-5-iteracao27.npy'\r\n",
      "'pesos-m=2-5-iteracao28.npy'\r\n",
      "'pesos-m=2-5-iteracao29.npy'\r\n",
      "'pesos-m=2-5-iteracao3.npy'\r\n",
      "'pesos-m=2-5-iteracao30.npy'\r\n",
      "'pesos-m=2-5-iteracao31.npy'\r\n",
      "'pesos-m=2-5-iteracao32.npy'\r\n",
      "'pesos-m=2-5-iteracao33.npy'\r\n",
      "'pesos-m=2-5-iteracao34.npy'\r\n",
      "'pesos-m=2-5-iteracao35.npy'\r\n",
      "'pesos-m=2-5-iteracao36.npy'\r\n",
      "'pesos-m=2-5-iteracao37.npy'\r\n",
      "'pesos-m=2-5-iteracao38.npy'\r\n",
      "'pesos-m=2-5-iteracao39.npy'\r\n",
      "'pesos-m=2-5-iteracao4.npy'\r\n",
      "'pesos-m=2-5-iteracao40.npy'\r\n",
      "'pesos-m=2-5-iteracao41.npy'\r\n",
      "'pesos-m=2-5-iteracao42.npy'\r\n",
      "'pesos-m=2-5-iteracao43.npy'\r\n",
      "'pesos-m=2-5-iteracao44.npy'\r\n",
      "'pesos-m=2-5-iteracao45.npy'\r\n",
      "'pesos-m=2-5-iteracao46.npy'\r\n",
      "'pesos-m=2-5-iteracao47.npy'\r\n",
      "'pesos-m=2-5-iteracao48.npy'\r\n",
      "'pesos-m=2-5-iteracao49.npy'\r\n",
      "'pesos-m=2-5-iteracao5.npy'\r\n",
      "'pesos-m=2-5-iteracao6.npy'\r\n",
      "'pesos-m=2-5-iteracao7.npy'\r\n",
      "'pesos-m=2-5-iteracao8.npy'\r\n",
      "'pesos-m=2-5-iteracao9.npy'\r\n",
      "'pesos-m=2-6-iteracao1.npy'\r\n",
      "'pesos-m=2-6-iteracao10.npy'\r\n",
      "'pesos-m=2-6-iteracao13.npy'\r\n",
      "'pesos-m=2-6-iteracao14.npy'\r\n",
      "'pesos-m=2-6-iteracao15.npy'\r\n",
      "'pesos-m=2-6-iteracao17.npy'\r\n",
      "'pesos-m=2-6-iteracao19.npy'\r\n",
      "'pesos-m=2-6-iteracao2.npy'\r\n",
      "'pesos-m=2-6-iteracao20.npy'\r\n",
      "'pesos-m=2-6-iteracao21.npy'\r\n",
      "'pesos-m=2-6-iteracao22.npy'\r\n",
      "'pesos-m=2-6-iteracao23.npy'\r\n",
      "'pesos-m=2-6-iteracao24.npy'\r\n",
      "'pesos-m=2-6-iteracao25.npy'\r\n",
      "'pesos-m=2-6-iteracao28.npy'\r\n",
      "'pesos-m=2-6-iteracao29.npy'\r\n",
      "'pesos-m=2-6-iteracao3.npy'\r\n",
      "'pesos-m=2-6-iteracao35.npy'\r\n",
      "'pesos-m=2-6-iteracao39.npy'\r\n",
      "'pesos-m=2-6-iteracao4.npy'\r\n",
      "'pesos-m=2-6-iteracao43.npy'\r\n",
      "'pesos-m=2-6-iteracao46.npy'\r\n",
      "'pesos-m=2-6-iteracao48.npy'\r\n",
      "'pesos-m=2-6-iteracao49.npy'\r\n",
      "'pesos-m=2-6-iteracao5.npy'\r\n",
      "'pesos-m=2-6-iteracao7.npy'\r\n",
      "'pesos-m=2-6-iteracao9.npy'\r\n",
      "'pesos-m=2-7-iteracao15.npy'\r\n",
      "'pesos-m=2-7-iteracao17.npy'\r\n",
      "'pesos-m=2-7-iteracao20.npy'\r\n",
      "'pesos-m=2-7-iteracao21.npy'\r\n",
      "'pesos-m=2-7-iteracao24.npy'\r\n",
      "'pesos-m=2-7-iteracao28.npy'\r\n",
      "'pesos-m=2-7-iteracao29.npy'\r\n",
      "'pesos-m=2-7-iteracao35.npy'\r\n",
      "'pesos-m=2-7-iteracao43.npy'\r\n",
      "'pesos-m=2-7-iteracao49.npy'\r\n",
      "'pesos-m=2-7-iteracao9.npy'\r\n",
      "'pesos-m=2-8-iteracao17.npy'\r\n",
      "'pesos-m=2-8-iteracao21.npy'\r\n"
     ]
    }
   ],
   "source": [
    "!ls"
   ]
  },
  {
   "cell_type": "code",
   "execution_count": 7,
   "metadata": {
    "colab": {
     "base_uri": "https://localhost:8080/"
    },
    "id": "nTtnf3HAzHFn",
    "outputId": "4bfc98b5-20f9-4909-ca15-395bdb5d0b7e"
   },
   "outputs": [],
   "source": [
    "#!unzip avila.zip\n"
   ]
  },
  {
   "cell_type": "markdown",
   "metadata": {
    "id": "CqxP3DgEHM8b"
   },
   "source": [
    "### Lendo a primeira parte dos dados e tirando o label"
   ]
  },
  {
   "cell_type": "code",
   "execution_count": 8,
   "metadata": {
    "id": "Lo_YBhPvzJ3D"
   },
   "outputs": [],
   "source": [
    "df2 = pd.read_table('avila/avila-tr.txt', sep = ',', header =None)\n"
   ]
  },
  {
   "cell_type": "code",
   "execution_count": 9,
   "metadata": {
    "colab": {
     "base_uri": "https://localhost:8080/",
     "height": 270
    },
    "id": "21LtoiEi1Wl_",
    "outputId": "5cdaa5eb-783c-47eb-a842-ea19d057dc73"
   },
   "outputs": [],
   "source": [
    "#df2.head()"
   ]
  },
  {
   "cell_type": "code",
   "execution_count": 10,
   "metadata": {
    "id": "Brh2kzIG11KQ"
   },
   "outputs": [],
   "source": [
    "df2.columns =['F1', 'F2', 'F3', 'F4', 'F5', 'F6', 'F7', 'F8', 'F9', 'F10','y' ]"
   ]
  },
  {
   "cell_type": "code",
   "execution_count": 11,
   "metadata": {
    "colab": {
     "base_uri": "https://localhost:8080/",
     "height": 270
    },
    "id": "8iq9gF5u5NxV",
    "outputId": "5bc7d96b-e5f3-4002-eb42-93f2f3a781e7"
   },
   "outputs": [],
   "source": [
    "#df2.head()"
   ]
  },
  {
   "cell_type": "code",
   "execution_count": 12,
   "metadata": {
    "colab": {
     "base_uri": "https://localhost:8080/"
    },
    "id": "dTqn9O-7Fc2i",
    "outputId": "f1c6ae7a-82db-411e-ac1d-05b317f5793e"
   },
   "outputs": [],
   "source": [
    "labels = df2['y'].tolist()\n",
    "#print(labels)"
   ]
  },
  {
   "cell_type": "code",
   "execution_count": 13,
   "metadata": {
    "colab": {
     "base_uri": "https://localhost:8080/",
     "height": 270
    },
    "id": "eCo1S3A-G2YW",
    "outputId": "64d81323-aee7-4d05-dd8f-07ee2dba29d3"
   },
   "outputs": [],
   "source": [
    "udf2= df2.drop(columns=['y'])\n",
    "#udf2.head()"
   ]
  },
  {
   "cell_type": "markdown",
   "metadata": {
    "id": "Yw8XBk5QHSdj"
   },
   "source": [
    "### Lendo a segunda parte dos dados e tirando label "
   ]
  },
  {
   "cell_type": "code",
   "execution_count": 14,
   "metadata": {
    "id": "OmC849FAG9Tc"
   },
   "outputs": [],
   "source": [
    "df1 = pd.read_table('avila/avila-ts.txt', sep = ',', header =None)"
   ]
  },
  {
   "cell_type": "code",
   "execution_count": 15,
   "metadata": {
    "colab": {
     "base_uri": "https://localhost:8080/",
     "height": 270
    },
    "id": "4CwQ1fKvHbeS",
    "outputId": "ac8ce899-5087-4319-e3e7-7817de32db18"
   },
   "outputs": [],
   "source": [
    "#df1.head()\n"
   ]
  },
  {
   "cell_type": "code",
   "execution_count": 16,
   "metadata": {
    "id": "8Jmgjpu2Hew8"
   },
   "outputs": [],
   "source": [
    "df1.columns =['F1', 'F2', 'F3', 'F4', 'F5', 'F6', 'F7', 'F8', 'F9', 'F10','y' ]"
   ]
  },
  {
   "cell_type": "code",
   "execution_count": 17,
   "metadata": {
    "colab": {
     "base_uri": "https://localhost:8080/"
    },
    "id": "W7pjX1b_HwZy",
    "outputId": "97710111-f1ab-4321-da55-7b6e1f6567c5"
   },
   "outputs": [],
   "source": [
    "labels1 = df1['y'].tolist()\n",
    "#print(labels1)"
   ]
  },
  {
   "cell_type": "code",
   "execution_count": 18,
   "metadata": {
    "colab": {
     "base_uri": "https://localhost:8080/",
     "height": 270
    },
    "id": "8kqntjgcH19k",
    "outputId": "ae91e396-2f07-4ee4-b989-b53d4cd45cc8"
   },
   "outputs": [],
   "source": [
    "udf1= df1.drop(columns=['y'])\n",
    "#udf1.head()"
   ]
  },
  {
   "cell_type": "code",
   "execution_count": null,
   "metadata": {
    "id": "OHTGtrQWzUUl"
   },
   "outputs": [],
   "source": []
  },
  {
   "cell_type": "markdown",
   "metadata": {
    "id": "WPVw1Wf9H7Qz"
   },
   "source": [
    "### Fundindo dos dados"
   ]
  },
  {
   "cell_type": "code",
   "execution_count": 19,
   "metadata": {
    "id": "Fky-VA8uH9jK"
   },
   "outputs": [],
   "source": [
    "frames = [df2, df1]\n",
    "df = pd.concat(frames)\n"
   ]
  },
  {
   "cell_type": "code",
   "execution_count": 20,
   "metadata": {
    "colab": {
     "base_uri": "https://localhost:8080/",
     "height": 270
    },
    "id": "B8x-LIYgIcfN",
    "outputId": "2177a244-aa14-47a5-b798-6efff5e41fd3"
   },
   "outputs": [],
   "source": [
    "#df.head()"
   ]
  },
  {
   "cell_type": "code",
   "execution_count": 21,
   "metadata": {
    "id": "DmrwhKw4Idjq"
   },
   "outputs": [],
   "source": [
    "df_new = df.drop(columns=['y'])"
   ]
  },
  {
   "cell_type": "code",
   "execution_count": 22,
   "metadata": {
    "colab": {
     "base_uri": "https://localhost:8080/",
     "height": 270
    },
    "id": "5SGHA_ewIp1V",
    "outputId": "16527b6b-0474-48be-a6b3-1eae28e55171"
   },
   "outputs": [],
   "source": [
    "#df_new.head()"
   ]
  },
  {
   "cell_type": "code",
   "execution_count": 23,
   "metadata": {
    "id": "f859mUKYLEeR"
   },
   "outputs": [],
   "source": [
    "Z= df_new.to_numpy()"
   ]
  },
  {
   "cell_type": "code",
   "execution_count": null,
   "metadata": {
    "colab": {
     "base_uri": "https://localhost:8080/"
    },
    "id": "FvEmjX7w6pej",
    "outputId": "3e3a7128-6125-4214-d818-0c31c87d7ddc"
   },
   "outputs": [],
   "source": []
  },
  {
   "cell_type": "code",
   "execution_count": 24,
   "metadata": {
    "colab": {
     "base_uri": "https://localhost:8080/"
    },
    "id": "xt5G1-AILSFK",
    "outputId": "801e7ea7-187a-4c53-d3e5-b33db3fbd600"
   },
   "outputs": [
    {
     "data": {
      "text/plain": [
       "(20867, 10)"
      ]
     },
     "execution_count": 24,
     "metadata": {},
     "output_type": "execute_result"
    }
   ],
   "source": [
    "Z.shape "
   ]
  },
  {
   "cell_type": "code",
   "execution_count": 25,
   "metadata": {},
   "outputs": [],
   "source": [
    "#A = [[1,2],[3,4],[5,6]]\n",
    "#AA=np.array(A).reshape(3,2)\n",
    "#eu = pdist(AA, 'euclidean')\n",
    "#print(eu)"
   ]
  },
  {
   "cell_type": "markdown",
   "metadata": {
    "id": "2NAD9ZBwK8da"
   },
   "source": [
    "## Matriz de dissimilaridade com a métrica euclideana"
   ]
  },
  {
   "cell_type": "code",
   "execution_count": 26,
   "metadata": {
    "id": "eZallLk6LhIy"
   },
   "outputs": [],
   "source": [
    "euclidean = pdist(Z,'euclidean')"
   ]
  },
  {
   "cell_type": "code",
   "execution_count": 27,
   "metadata": {
    "colab": {
     "base_uri": "https://localhost:8080/"
    },
    "id": "oVRbZzpVLs_J",
    "outputId": "a49eb10a-6acc-4fa2-8674-352bed35a1a3"
   },
   "outputs": [],
   "source": [
    "#print(euclidean)\n",
    "#print(len(euclidean))"
   ]
  },
  {
   "cell_type": "code",
   "execution_count": 28,
   "metadata": {
    "id": "7dM1RcLKL0Qb"
   },
   "outputs": [],
   "source": [
    "Euclidean = squareform(euclidean)"
   ]
  },
  {
   "cell_type": "code",
   "execution_count": 29,
   "metadata": {
    "id": "JqC-leuUNMN5"
   },
   "outputs": [],
   "source": [
    "y = pd.DataFrame(Euclidean)"
   ]
  },
  {
   "cell_type": "code",
   "execution_count": 30,
   "metadata": {
    "colab": {
     "base_uri": "https://localhost:8080/",
     "height": 300
    },
    "id": "UpCqU6-GNeIz",
    "outputId": "b6ac5e80-6e7a-4519-a24f-6f573526d4c0"
   },
   "outputs": [],
   "source": [
    "#y.head()"
   ]
  },
  {
   "cell_type": "code",
   "execution_count": 31,
   "metadata": {
    "id": "5Z6DTMFcqjnC"
   },
   "outputs": [],
   "source": [
    "dissi_euclid = np.array(y).reshape(len(y), len(y))"
   ]
  },
  {
   "cell_type": "code",
   "execution_count": 32,
   "metadata": {
    "id": "P6JIIXjYqzeF"
   },
   "outputs": [],
   "source": [
    "#print(dissi_euclid [10])"
   ]
  },
  {
   "cell_type": "code",
   "execution_count": 33,
   "metadata": {},
   "outputs": [],
   "source": [
    "euclidean_new = np.array(y).reshape(20867,20867)\n",
    "#print(euclidean_new[0,1])\n",
    "                      \n"
   ]
  },
  {
   "cell_type": "markdown",
   "metadata": {
    "id": "cbUTe8lnmpQT"
   },
   "source": [
    "## Matriz de dissimilaridade com a métrica L1"
   ]
  },
  {
   "cell_type": "code",
   "execution_count": 34,
   "metadata": {
    "id": "5GPZKhdBj3NJ"
   },
   "outputs": [],
   "source": [
    "cityblock = pdist(Z,metric='cityblock')"
   ]
  },
  {
   "cell_type": "code",
   "execution_count": 35,
   "metadata": {
    "id": "6-x3GSZij6Zi"
   },
   "outputs": [],
   "source": [
    "L1 = squareform(cityblock)"
   ]
  },
  {
   "cell_type": "code",
   "execution_count": 36,
   "metadata": {
    "id": "dV4qtFJ1odZN"
   },
   "outputs": [],
   "source": [
    "ell1 = pd.DataFrame(L1)"
   ]
  },
  {
   "cell_type": "code",
   "execution_count": 37,
   "metadata": {
    "colab": {
     "base_uri": "https://localhost:8080/",
     "height": 300
    },
    "id": "Iq6NLbMZopea",
    "outputId": "4c9547fc-75e6-4274-9553-aafb405f8ec9"
   },
   "outputs": [],
   "source": [
    "#ell1.head()"
   ]
  },
  {
   "cell_type": "code",
   "execution_count": 38,
   "metadata": {},
   "outputs": [],
   "source": [
    "L1_new = np.array(ell1).reshape(20867,20867)\n",
    "#print(L1_new[0,1])\n",
    "                      "
   ]
  },
  {
   "cell_type": "markdown",
   "metadata": {
    "id": "eMlg1vwnpSC-"
   },
   "source": [
    "## Matriz de dissimilaridade com a distância Linf"
   ]
  },
  {
   "cell_type": "code",
   "execution_count": 39,
   "metadata": {
    "id": "AhF68p3fordh"
   },
   "outputs": [],
   "source": [
    "chebyshev= pdist(Z, metric='chebyshev') \n"
   ]
  },
  {
   "cell_type": "code",
   "execution_count": 40,
   "metadata": {
    "id": "uQah9dJqpwPV"
   },
   "outputs": [],
   "source": [
    "Linf = squareform(chebyshev)"
   ]
  },
  {
   "cell_type": "code",
   "execution_count": 41,
   "metadata": {
    "colab": {
     "base_uri": "https://localhost:8080/",
     "height": 300
    },
    "id": "fsf8hJUzr7_9",
    "outputId": "caa1c65f-0959-4429-bcbb-195b8da7e25e"
   },
   "outputs": [],
   "source": [
    "ellinf = pd.DataFrame(Linf)\n",
    "#ellinf.head()"
   ]
  },
  {
   "cell_type": "code",
   "execution_count": 42,
   "metadata": {},
   "outputs": [],
   "source": [
    "Linf_new = np.array(ellinf).reshape(20867,20867)\n",
    "#print(Linf_new[0,1])\n",
    "                                "
   ]
  },
  {
   "cell_type": "markdown",
   "metadata": {},
   "source": [
    "# Etapa 2 - Normalizar as matrizes de dissimilaridade"
   ]
  },
  {
   "cell_type": "markdown",
   "metadata": {},
   "source": [
    "## Norma Euclideana"
   ]
  },
  {
   "cell_type": "code",
   "execution_count": null,
   "metadata": {},
   "outputs": [],
   "source": [
    "\n",
    "\n"
   ]
  },
  {
   "cell_type": "code",
   "execution_count": 43,
   "metadata": {},
   "outputs": [],
   "source": [
    "def g_euclidean():\n",
    "    \"\"\"\n",
    "    lista = []\n",
    "    for h in tqdm(range(20867)):\n",
    "\n",
    "    soma = 0\n",
    "    for i in range(20867):\n",
    "        d_ei_eh = euclidean_new[i][h]\n",
    "\n",
    "\n",
    "        soma+=d_ei_eh \n",
    "\n",
    "    lista.append((soma,h))\n",
    "    #print('lista', lista)\n",
    "\n",
    "    ordenado = sorted(lista, key=lambda lista: lista[0])\n",
    "    #print('ordenado', ordenado)\n",
    "    theta = ordenado[0][0]\n",
    "    #print('soma', argmax)\n",
    "    #e_max_k = dataset[argmax]\n",
    "    return theta\n",
    "    \"\"\"\n",
    "    all_hs = euclidean_new.sum(axis=0)\n",
    "    print(all_hs.shape)\n",
    "\n",
    "    return all_hs.min()"
   ]
  },
  {
   "cell_type": "code",
   "execution_count": 44,
   "metadata": {},
   "outputs": [
    {
     "name": "stdout",
     "output_type": "stream",
     "text": [
      "(20867,)\n"
     ]
    }
   ],
   "source": [
    "den = g_euclidean()\n",
    "euclidean_new = euclidean_new/den\n",
    "    "
   ]
  },
  {
   "cell_type": "code",
   "execution_count": 45,
   "metadata": {},
   "outputs": [],
   "source": [
    "#print(euclidean_new)"
   ]
  },
  {
   "cell_type": "code",
   "execution_count": 46,
   "metadata": {},
   "outputs": [],
   "source": [
    "#g_euclidean(Z)"
   ]
  },
  {
   "cell_type": "markdown",
   "metadata": {},
   "source": [
    "## Norma L1"
   ]
  },
  {
   "cell_type": "code",
   "execution_count": 47,
   "metadata": {},
   "outputs": [],
   "source": [
    "def soma_l1():\n",
    "  \n",
    "  \"\"\"\"lista = []\n",
    "  for h in tqdm(range(20867)):\n",
    "   \n",
    "    soma = 0\n",
    "    for i in range(20867):\n",
    "        d_ei_eh = L1_new[i][h]\n",
    "      \n",
    "        \n",
    "        soma+=d_ei_eh \n",
    "        \n",
    "    lista.append((soma,h))\n",
    "    #print('lista', lista)\n",
    "\n",
    "  ordenado = sorted(lista, key=lambda lista: lista[0])\n",
    "  #print('ordenado', ordenado)\n",
    "  theta = ordenado[0][0]\n",
    "  #print('soma', argmax)\n",
    "  #e_max_k = dataset[argmax]\n",
    "  return theta\"\"\"\n",
    "  all_hs = L1_new.sum(axis=0)\n",
    "  print(all_hs.shape)\n",
    "\n",
    "  return all_hs.min()"
   ]
  },
  {
   "cell_type": "code",
   "execution_count": 48,
   "metadata": {},
   "outputs": [
    {
     "name": "stdout",
     "output_type": "stream",
     "text": [
      "(20867,)\n"
     ]
    }
   ],
   "source": [
    "de= soma_l1()\n",
    "L1_new = L1_new/de\n",
    "    "
   ]
  },
  {
   "cell_type": "code",
   "execution_count": 49,
   "metadata": {},
   "outputs": [],
   "source": [
    "#3print(L1_new)"
   ]
  },
  {
   "cell_type": "markdown",
   "metadata": {},
   "source": [
    "## Norma Linfty "
   ]
  },
  {
   "cell_type": "code",
   "execution_count": 50,
   "metadata": {},
   "outputs": [],
   "source": [
    "def soma_linf():\n",
    "    \"\"\" \n",
    "    lista = []\n",
    "    for h in tqdm(range(20867)):\n",
    "\n",
    "    soma = 0\n",
    "    for i in range(20867):\n",
    "        d_ei_eh = Linf_new[i][h]\n",
    "\n",
    "\n",
    "        soma+=d_ei_eh \n",
    "\n",
    "    lista.append((soma,h))\n",
    "    #print('lista', lista)\n",
    "\n",
    "    ordenado = sorted(lista, key=lambda lista: lista[0])\n",
    "    #print('ordenado', ordenado)\n",
    "    theta = ordenado[0][0]\n",
    "    #print('soma', argmax)\n",
    "    #e_max_k = dataset[argmax]\n",
    "    return theta\"\"\"\n",
    "    all_hs = Linf_new.sum(axis=0)\n",
    "    print(all_hs.shape)\n",
    "\n",
    "    return all_hs.min()"
   ]
  },
  {
   "cell_type": "code",
   "execution_count": 51,
   "metadata": {},
   "outputs": [
    {
     "name": "stdout",
     "output_type": "stream",
     "text": [
      "(20867,)\n"
     ]
    }
   ],
   "source": [
    "d= soma_linf()\n",
    "Linf_new = Linf_new/d\n",
    "    "
   ]
  },
  {
   "cell_type": "code",
   "execution_count": 52,
   "metadata": {},
   "outputs": [],
   "source": [
    "#print(Linf_new)"
   ]
  },
  {
   "cell_type": "markdown",
   "metadata": {
    "id": "L1d7na3Areac"
   },
   "source": [
    "# Etapa 3 - Funções que compoem o algoritmo \n",
    "\n",
    "---"
   ]
  },
  {
   "cell_type": "markdown",
   "metadata": {
    "id": "gawmKdji4z5t"
   },
   "source": [
    "### Selecionar 12 medoides aleatoriamente"
   ]
  },
  {
   "cell_type": "code",
   "execution_count": 53,
   "metadata": {
    "id": "yt2CXrDCsNWe"
   },
   "outputs": [],
   "source": [
    "def medoides_iniciais ():\n",
    "  lista=[]\n",
    "  indices = []\n",
    "  for j in range(12):\n",
    "    medoid_init=[]\n",
    "    indi = []\n",
    "    for i in range(3):\n",
    "        x = randrange(20867)\n",
    "        medoid_init.append(Z[x])\n",
    "        indi.append(x)\n",
    "        #print(indi)\n",
    "    lista.append(medoid_init)\n",
    "    indices.append(indi)\n",
    "  return lista, indices"
   ]
  },
  {
   "cell_type": "code",
   "execution_count": 54,
   "metadata": {
    "id": "jkjPN9ZR8aQL"
   },
   "outputs": [],
   "source": [
    "#lista, indices= medoides_iniciais()\n",
    "#print(indices)\n",
    "#jj = np.array(j).reshape(12,3,10)\n",
    "#print(jj[10])\n",
    "#print(jj[10][1])\n",
    "#print(jj[10,1])"
   ]
  },
  {
   "cell_type": "markdown",
   "metadata": {
    "id": "AQk08nEN5Axu"
   },
   "source": [
    "### Matriz de peso inicial"
   ]
  },
  {
   "cell_type": "code",
   "execution_count": 55,
   "metadata": {
    "id": "tOMa7bvOMYCn"
   },
   "outputs": [],
   "source": [
    "def pesos_init():\n",
    "  lambdas_init=[]\n",
    "  for i in range(12):\n",
    "    v = [1]*3\n",
    "    lambdas_init.append(v)\n",
    "  return lambdas_init\n",
    "   "
   ]
  },
  {
   "cell_type": "code",
   "execution_count": 56,
   "metadata": {
    "id": "54hgHkIzNJHq"
   },
   "outputs": [],
   "source": [
    "#h= np.array(pesos_init())\n",
    "#print(h)\n",
    "#h1 = h.reshape(12,3)"
   ]
  },
  {
   "cell_type": "markdown",
   "metadata": {
    "id": "s70EOc-U5KH6"
   },
   "source": [
    "## Atualização do vetor de graus de pertinencia (equação 6)"
   ]
  },
  {
   "cell_type": "markdown",
   "metadata": {
    "id": "xMNDpxF96mz8"
   },
   "source": [
    "#### Numerador de **u_ik**"
   ]
  },
  {
   "cell_type": "code",
   "execution_count": 57,
   "metadata": {
    "id": "n4JkdueKNX_1"
   },
   "outputs": [],
   "source": [
    "def numerador(medoides, pesos, posicao_do_i, exemplos, k_indice_medoide, indices_impressos_medoides ):\n",
    "  #um medoide é feito aleatoreamente por 3 vetores escolhidos\n",
    "  #12 é a quantidadde de moides\n",
    "  #p = 3\n",
    "  #posição do medoide indica qual a linha que ele está\n",
    "\n",
    "  medoide = np.array(medoides).reshape(12,3,10)\n",
    "  indices = indices_impressos_medoides\n",
    "  ei = exemplos[posicao_do_i]\n",
    "  gk= medoide[k_indice_medoide]\n",
    "  posicao_k = indices_impressos_medoides[k_indice_medoide]\n",
    "  pe = np.array(pesos).reshape(12,3)\n",
    "  soma = [] \n",
    "  for j in range(3):\n",
    "    gkj = gk[j]\n",
    "    posicao_kj = posicao_k[j]\n",
    "    if j ==0:\n",
    "        #print(f\"g {k_indice_medoide} {j} = \", gkj )\n",
    "        d_ei_gkj = euclidean_new [posicao_kj][posicao_do_i]\n",
    "    if j==1:\n",
    "        #print(f\"g {k_indice_medoide} {j}=\", gkj )\n",
    "        d_ei_gkj = L1_new [posicao_kj][posicao_do_i ]\n",
    "    else:\n",
    "        #print(f\"g {k_indice_medoide} {j}= \", gkj )\n",
    "        d_ei_gkj = Linf_new [posicao_kj][posicao_do_i ]     \n",
    "    \n",
    "    soma.append(d_ei_gkj) \n",
    "  \n",
    "\n",
    "\n",
    "\n",
    "  \n",
    "  pe = pesos[k_indice_medoide]\n",
    "  final = np.dot(pe, soma)\n",
    "\n",
    "  return final\n"
   ]
  },
  {
   "cell_type": "code",
   "execution_count": 58,
   "metadata": {
    "id": "5dpcf1tDXKq_",
    "scrolled": true
   },
   "outputs": [],
   "source": [
    "#lista, indices = medoides_iniciais ()\n",
    "#pesos = pesos_init()\n",
    "#som = numerador(medoides = lista,\n",
    "              #  pesos= pesos,\n",
    "               # posicao_do_i = 3,\n",
    "                #exemplos = Z,\n",
    "                #k_indice_medoide= 2, \n",
    "                #indices_impressos_medoides = indices\n",
    "               #)\n",
    "#print(som)"
   ]
  },
  {
   "cell_type": "markdown",
   "metadata": {
    "id": "XcPnG9EJVun4"
   },
   "source": [
    "#### Função que atualiza **u_ik**"
   ]
  },
  {
   "cell_type": "code",
   "execution_count": 59,
   "metadata": {
    "id": "5tvBcLHFU3V9"
   },
   "outputs": [],
   "source": [
    "def atualizar_uik(medoides, pesos, posicao_do_i, exemplos, k_indice_medoide, indices_impressos_medoides, param_m ):\n",
    "    ei = exemplos[posicao_do_i]\n",
    "    medoide = np.array(medoides).reshape(12,3,10)\n",
    "    total = 0 \n",
    "    numerado = numerador(medoides, pesos, posicao_do_i, exemplos, k_indice_medoide, indices_impressos_medoides )\n",
    "\n",
    "    for h in range(12):\n",
    "        #print('h', h)\n",
    "        values = []\n",
    "        g_h= medoide[h]\n",
    "        indi_h = indices_impressos_medoides[h]\n",
    "        lambda_h = pesos[h]\n",
    "        #print('lambda_h', lambda_h)\n",
    "        for j in range(3):\n",
    "            g_hj = g_h[j]\n",
    "            #print('g_hj', g_hj)\n",
    "            posicao_hj = indi_h[j]\n",
    "            #print(posicao_hj)\n",
    "            if j ==0:\n",
    "                #print(f\"g {h} {j} = \", g_hj )\n",
    "                d_ei_ghj = euclidean_new [posicao_hj][posicao_do_i]\n",
    "            elif j==1:\n",
    "                #print(f\"g {h} {j}=\", g_hj )\n",
    "                d_ei_ghj = L1_new [posicao_hj][posicao_do_i ]\n",
    "            else:\n",
    "                #print(f\"g {h} {j}= \", g_hj )\n",
    "                d_ei_ghj = Linf_new [posicao_hj][posicao_do_i ] \n",
    "            values.append(d_ei_ghj)\n",
    "        #print('values', values)\n",
    "        prod= np.dot(lambda_h , values)\n",
    "        conta = (numerado/prod)**(1/(param_m-1))\n",
    "        total += conta\n",
    "    final = total**(-1)\n",
    "    return final"
   ]
  },
  {
   "cell_type": "code",
   "execution_count": 60,
   "metadata": {},
   "outputs": [],
   "source": [
    "#lista, indices = medoides_iniciais ()\n",
    "#pesos = pesos_init()\n",
    "\n",
    "#at = atualizar_uik(medoides= lista,\n",
    "                   #pesos= pesos,\n",
    "                   #posicao_do_i = 50,\n",
    "                   #exemplos = Z,\n",
    "                   #k_indice_medoide = 1,\n",
    "                   #indices_impressos_medoides = indices,\n",
    "                   #param_m  = 2)\n",
    "#print(at)"
   ]
  },
  {
   "cell_type": "markdown",
   "metadata": {
    "id": "lPXZvcJa96lo"
   },
   "source": [
    "#### Função que atualiza o ui, composto por 12 vetores"
   ]
  },
  {
   "cell_type": "code",
   "execution_count": 61,
   "metadata": {
    "id": "VbhRF6zk2tN7"
   },
   "outputs": [],
   "source": [
    "def atualizar_ui(medoides, pesos, exemplos,  posicao_do_i, indices_impressos_medoides, param_m):\n",
    "  medoide = np.array(medoides).reshape(12,3,10)\n",
    "  ui=[]\n",
    "  for k in range(12):\n",
    "    atu= atualizar_uik(medoides = medoides,\n",
    "                       pesos = pesos,\n",
    "                       posicao_do_i = posicao_do_i,\n",
    "                       exemplos = exemplos, \n",
    "                       k_indice_medoide = k , \n",
    "                       indices_impressos_medoides = indices_impressos_medoides,\n",
    "                       param_m = param_m)\n",
    "    ui.append(atu)\n",
    "  return ui "
   ]
  },
  {
   "cell_type": "code",
   "execution_count": 62,
   "metadata": {
    "colab": {
     "base_uri": "https://localhost:8080/",
     "height": 87
    },
    "id": "IHyzMOIZYPR_",
    "outputId": "04085662-a930-4221-86f9-36d6f306b9ef"
   },
   "outputs": [],
   "source": [
    "#lista, indices = medoides_iniciais ()\n",
    "#pesos = pesos_init()\n",
    "\n",
    "#u5 = atualizar_ui(medoides = lista,\n",
    "                       #pesos = pesos,\n",
    "                       #exemplos = Z, \n",
    "                       # posicao_do_i = 5, \n",
    "                       #indices_impressos_medoides =indices,\n",
    "                       #param_m = 2)\n",
    "#print(u5)\n",
    "#ui_5 = np.array(ui5).reshape(1,12)\n",
    "#print(ui_5)"
   ]
  },
  {
   "cell_type": "code",
   "execution_count": 63,
   "metadata": {
    "id": "Qr8YGgk4ZspI"
   },
   "outputs": [],
   "source": [
    "def matriz_u( medoides, pesos, exemplos, indices_impressos_medoides, param_m):\n",
    "  matriz_u = []\n",
    "  for i in range(20867):\n",
    "    \n",
    "    ui_k =atualizar_ui(medoides = medoides,\n",
    "                       pesos = pesos,\n",
    "                       exemplos = exemplos, \n",
    "                       posicao_do_i =i , \n",
    "                       indices_impressos_medoides =indices_impressos_medoides,\n",
    "                       param_m = param_m)\n",
    "    matriz_u.append(ui_k)\n",
    "  U = np.array(matriz_u).reshape(20867, 12)\n",
    "  return U\n",
    "\n",
    "\n"
   ]
  },
  {
   "cell_type": "code",
   "execution_count": 64,
   "metadata": {
    "colab": {
     "base_uri": "https://localhost:8080/",
     "height": 70
    },
    "id": "7g9LqvkQbJkh",
    "outputId": "1bfcfee8-1714-427b-b9bf-adb9ef839a3f"
   },
   "outputs": [],
   "source": [
    "#lista, indices = medoides_iniciais ()\n",
    "#pesos = pesos_init()\n",
    "#U =matriz_u( medoides = lista,\n",
    "                     #  pesos = pesos,\n",
    "                      # exemplos = Z, \n",
    "                       #indices_impressos_medoides =indices,\n",
    "                       #param_m = 2)\n"
   ]
  },
  {
   "cell_type": "code",
   "execution_count": 65,
   "metadata": {},
   "outputs": [],
   "source": [
    "\n",
    "#U.shape"
   ]
  },
  {
   "cell_type": "code",
   "execution_count": null,
   "metadata": {},
   "outputs": [],
   "source": []
  },
  {
   "cell_type": "markdown",
   "metadata": {
    "id": "antlgq85G2lW"
   },
   "source": [
    "## Atualizar lambda_kj (equação 5)"
   ]
  },
  {
   "cell_type": "code",
   "execution_count": 66,
   "metadata": {
    "id": "BNCHbVPuHBL4"
   },
   "outputs": [],
   "source": [
    "def numerador_lambda_kj( medoides, posicao_do_medoide_k,m_num, matriz_u, indices_dos_medoides):\n",
    "  #um medoide é feito aleatoriamente por 3 vetores escolhidos\n",
    "  #12 é a quantidadde de moides\n",
    "  #p = 3\n",
    "\n",
    "  soma=0\n",
    "  prod = 1\n",
    "  sum=0\n",
    "  \n",
    "  medoide = np.array(medoides).reshape(12,3,10)\n",
    "  indice_k= indices_dos_medoides[posicao_do_medoide_k]\n",
    " \n",
    "\n",
    "  for h in range(3):\n",
    "    indice_kh = indice_k[h]\n",
    "    \n",
    "      \n",
    "    for i in range(20867):\n",
    "        if h ==0:\n",
    "            d_ei_gkh = euclidean_new[i][indice_kh]\n",
    "        elif h ==1:\n",
    "            d_ei_gkh = L1_new[i][indice_kh]\n",
    "        else:\n",
    "            d_ei_gkh = Linf_new[i][indice_kh]\n",
    "        u_i = matriz_u [i]\n",
    "        u_ik = u_i[posicao_do_medoide_k]\n",
    "        uik_m = (u_ik)**m_num\n",
    "        uikm_vezesdist =  uik_m*d_ei_gkh\n",
    "        soma+= uikm_vezesdist\n",
    "    prod = prod* soma\n",
    "  numerador = (prod)**(1/3)\n",
    "  \n",
    "  return numerador"
   ]
  },
  {
   "cell_type": "code",
   "execution_count": 67,
   "metadata": {},
   "outputs": [],
   "source": [
    "def denominador_lambda_kj( medoides, posicao_do_medoide_k,m_num, matriz_u, posicao_j, indices_dos_medoides):\n",
    "    indice_k=indices_dos_medoides [posicao_do_medoide_k]\n",
    "    indice_kj = indice_k[posicao_j]\n",
    "    soma=0\n",
    "    for i in range(20867):\n",
    "        u_i = matriz_u [i]\n",
    "        u_ik = u_i[posicao_do_medoide_k]\n",
    "        uik_m = (u_ik)**m_num\n",
    "        if posicao_j ==0:\n",
    "            d_ei_gkj = euclidean_new[i][indice_kj]\n",
    "        elif posicao_j ==1:\n",
    "            d_ei_gkj = L1_new[i][indice_kj]\n",
    "        else:\n",
    "            d_ei_gkj = Linf_new[i][indice_kj]\n",
    "        uikm_vezesdist =  uik_m*d_ei_gkj\n",
    "        soma+= uikm_vezesdist\n",
    "    return soma"
   ]
  },
  {
   "cell_type": "code",
   "execution_count": 68,
   "metadata": {},
   "outputs": [],
   "source": [
    "def atualizar_lambda_kj(medoides, posicao_do_medoide_k,m_num, matriz_u, posicao_j, indices_dos_medoides):\n",
    "    numerado= numerador_lambda_kj( medoides, posicao_do_medoide_k,m_num, matriz_u,  indices_dos_medoides)\n",
    "    denominado= denominador_lambda_kj( medoides, posicao_do_medoide_k,m_num, matriz_u, posicao_j, indices_dos_medoides)\n",
    "    lambda_kj = numerado/denominado \n",
    "    return lambda_kj"
   ]
  },
  {
   "cell_type": "code",
   "execution_count": 69,
   "metadata": {},
   "outputs": [],
   "source": [
    "#lista, indices = medoides_iniciais ()\n",
    "#pesos = pesos_init()\n",
    "\n",
    "#atualizar_lambda_kj(medoides = lista,\n",
    " #                   posicao_do_medoide_k= 5, \n",
    "  #                  m_num =2,\n",
    "   #                 matriz_u = U,\n",
    "    #                posicao_j = 2,\n",
    "     #               indices_dos_medoides= indices\n",
    "      #             )"
   ]
  },
  {
   "cell_type": "code",
   "execution_count": 70,
   "metadata": {
    "id": "HLXrfPERzWkh"
   },
   "outputs": [],
   "source": [
    "#print(lambdakj)"
   ]
  },
  {
   "cell_type": "code",
   "execution_count": 71,
   "metadata": {},
   "outputs": [],
   "source": [
    "def atualizar_lambda_k(medoides, posicao_do_medoide_k,m_num, matriz_u, indices_dos_medoides):\n",
    "    lambdas = []\n",
    "    for j in range(3):\n",
    "        atua= atualizar_lambda_kj(medoides = medoides,\n",
    "                        posicao_do_medoide_k= posicao_do_medoide_k, \n",
    "                        m_num =m_num,\n",
    "                        matriz_u = matriz_u,\n",
    "                        posicao_j = j,\n",
    "                        indices_dos_medoides= indices_dos_medoides\n",
    "                       )\n",
    "        lambdas.append(atua)\n",
    "            \n",
    "    return lambdas"
   ]
  },
  {
   "cell_type": "code",
   "execution_count": 72,
   "metadata": {},
   "outputs": [],
   "source": [
    "#lista, indices = medoides_iniciais ()\n",
    "#pesos = pesos_init()\n",
    "#atualizar_lambda_k(medoides = lista, \n",
    "                   #posicao_do_medoide_k = 5,\n",
    "                   #m_num = 2, \n",
    "                   #matriz_u = U,\n",
    "                   #indices_dos_medoides = indices,\n",
    "                  #)"
   ]
  },
  {
   "cell_type": "code",
   "execution_count": 73,
   "metadata": {
    "id": "Q4rapSwqzlk_"
   },
   "outputs": [],
   "source": [
    "def matriz_lambda(medoides, m_num,matriz_u, indices_dos_medoides):\n",
    "  matriz = []\n",
    "  for k in range(12):\n",
    "    atualizar =atualizar_lambda_k(medoides = medoides, \n",
    "                                  posicao_do_medoide_k = k,\n",
    "                                  m_num = m_num,\n",
    "                                  matriz_u = matriz_u,\n",
    "                                  indices_dos_medoides = indices_dos_medoides,\n",
    "                                   \n",
    "                  )\n",
    "    matriz.append(atualizar)\n",
    "  Lambda_at = np.array(matriz).reshape(12,3)\n",
    "  return Lambda_at\n"
   ]
  },
  {
   "cell_type": "code",
   "execution_count": 74,
   "metadata": {
    "id": "CPJuyZFE1HZh"
   },
   "outputs": [],
   "source": [
    "#lista, indices = medoides_iniciais ()\n",
    "#pesos = pesos_init()\n",
    "#matriz_lambda(medoides =lista, \n",
    "             # m_num =2,\n",
    "             # matriz_u = U, \n",
    "             # indices_dos_medoides=indices  \n",
    "             #)"
   ]
  },
  {
   "cell_type": "markdown",
   "metadata": {
    "id": "mJGOFbHTdBWG"
   },
   "source": [
    "## Atualizar  medoides (equação 4)"
   ]
  },
  {
   "cell_type": "code",
   "execution_count": 75,
   "metadata": {},
   "outputs": [],
   "source": [
    "#(U[:, 1] ** 2).shape, Linf_new[:, 1].shape"
   ]
  },
  {
   "cell_type": "code",
   "execution_count": 76,
   "metadata": {},
   "outputs": [],
   "source": [
    "def atualizar_gkj(m_number, posicao_do_medoide_k, matriz_u, posicao_j, dataset):\n",
    "  lista = []\n",
    "  \n",
    "  if posicao_j ==1:\n",
    "      for h in range(20867):\n",
    "          uik_m = (matriz_u[:, posicao_do_medoide_k] ** m_number)\n",
    "          e_h = euclidean_new[:, h]\n",
    "          prod = np.dot(uik_m, e_h)\n",
    "          lista.append((prod,h))\n",
    "          \n",
    "  elif posicao_j ==2:\n",
    "      for h in range(20867):\n",
    "          uik_m = (matriz_u[:, posicao_do_medoide_k] ** m_number)\n",
    "          e_h = L1_new[:, h]\n",
    "          prod = np.dot(uik_m, e_h)\n",
    "          lista.append((prod,h))\n",
    "  else:\n",
    "      for h in range(20867):\n",
    "          uik_m = (matriz_u[:, posicao_do_medoide_k] ** m_number)\n",
    "          e_h = Linf_new[:, h]\n",
    "          prod = np.dot(uik_m, e_h)\n",
    "          lista.append((prod,h))\n",
    "\n",
    "      \n",
    "      \n",
    "  \n",
    "\n",
    "  ordenado = sorted(lista, key=lambda lista: lista[0])\n",
    "  argmin = ordenado[0][1]\n",
    "  e_min_k = dataset[argmin]\n",
    "  return e_min_k, argmin\n",
    " \n",
    " "
   ]
  },
  {
   "cell_type": "code",
   "execution_count": 77,
   "metadata": {},
   "outputs": [],
   "source": [
    "#atualizar_gkj(m_number = 2, posicao_do_medoide_k = 5, matriz_u = U, posicao_j =0, dataset =Z)"
   ]
  },
  {
   "cell_type": "code",
   "execution_count": 78,
   "metadata": {},
   "outputs": [],
   "source": [
    "def atualizar_gk(m_number, posicao_do_medoide_k, matriz_u, dataset):\n",
    "    gk = []\n",
    "    indices = []\n",
    "    for j in range(3):\n",
    "        atua, indic = atualizar_gkj(m_number = m_number,\n",
    "                      posicao_do_medoide_k = posicao_do_medoide_k,\n",
    "                      matriz_u = matriz_u,\n",
    "                      posicao_j = j,\n",
    "                      dataset=dataset\n",
    "                      )\n",
    "        gk.append(atua)\n",
    "        indices.append(indic)\n",
    "    return gk, indices"
   ]
  },
  {
   "cell_type": "code",
   "execution_count": 79,
   "metadata": {},
   "outputs": [],
   "source": [
    "#atualizar_gk(m_number = 2, posicao_do_medoide_k = 5, matriz_u = U, dataset =Z)"
   ]
  },
  {
   "cell_type": "code",
   "execution_count": 80,
   "metadata": {},
   "outputs": [],
   "source": [
    "def atualizar_g(m_number, matriz_u, dataset):\n",
    "    matriz_g =[]\n",
    "    indicex = []\n",
    "    for k in tqdm(range(12)):\n",
    "        au, ind =atualizar_gk(m_number = m_number,\n",
    "                     posicao_do_medoide_k = k,\n",
    "                     matriz_u = matriz_u,\n",
    "                     dataset=dataset\n",
    "                     )\n",
    "        matriz_g.append(au)\n",
    "        indicex.append(ind)\n",
    "    #print('matriz_g', np.array(matriz_g).shape)\n",
    "    #print('indices', np.array(indices).shape)\n",
    "    G = np.array(matriz_g).reshape(12,3,10)\n",
    "    Indices =  np.array(indicex).reshape(12,3)\n",
    "    return G, Indices"
   ]
  },
  {
   "cell_type": "code",
   "execution_count": 81,
   "metadata": {
    "id": "2I6SadaZ12rZ"
   },
   "outputs": [],
   "source": [
    "#atualizar_g(m_number = 2, matriz_u= U,dataset= Z)"
   ]
  },
  {
   "cell_type": "markdown",
   "metadata": {
    "id": "CqNDMi_qv0j1"
   },
   "source": [
    "## Atualizar Função objetivo"
   ]
  },
  {
   "cell_type": "code",
   "execution_count": 82,
   "metadata": {
    "id": "Brvt-z-Ovz9S"
   },
   "outputs": [],
   "source": [
    "def atualizar_funcao_objetivo(pesos, matriz_u,centroides, lista_impressa_indices, m_number):\n",
    "  \n",
    "    \n",
    "  soma3= 0\n",
    "  centroid= np.array(centroides).reshape(12,3,10)\n",
    "  for k in tqdm(range(12)):\n",
    "    gk= lista_impressa_indices[k]\n",
    "    soma2= 0\n",
    "    for i in range(20867):\n",
    "      uik_m = (matriz_u[i][k])**m_number\n",
    "      soma1 = 0\n",
    "      for j in range(3):\n",
    "        gkj= gk[j]\n",
    "        #print('j',j)\n",
    "        lambda_kj = pesos[k][j]\n",
    "        #print(lambda_kj)\n",
    "        if j ==0:\n",
    "            d_ei_gkj = euclidean_new[i][gkj]\n",
    "        elif j ==1:\n",
    "            d_ei_gkj = L1_new[i][gkj]\n",
    "        else:\n",
    "            d_ei_gkj = Linf_new[i][gkj]\n",
    "\n",
    "          \n",
    "        soma1+=  lambda_kj* d_ei_gkj\n",
    "        #print('soma', soma1)\n",
    "      multi = uik_m* soma1\n",
    "      soma2+= multi\n",
    "    soma3+= soma2 \n",
    "  return soma3\n"
   ]
  },
  {
   "cell_type": "code",
   "execution_count": 83,
   "metadata": {
    "id": "cTxXKpfNa1k3"
   },
   "outputs": [],
   "source": [
    "#med,indices = medoides_iniciais()\n",
    "#pesos = pesos_init()\n"
   ]
  },
  {
   "cell_type": "code",
   "execution_count": 84,
   "metadata": {},
   "outputs": [],
   "source": [
    "#atualizar_funcao_objetivo(pesos = pesos,matriz_u= U,centroides= med, lista_impressa_indices= indices, m_number=2)\n",
    "                          "
   ]
  },
  {
   "cell_type": "markdown",
   "metadata": {
    "id": "C9REOyLcgNU9"
   },
   "source": [
    "# Etapa 3 - Algoritmo"
   ]
  },
  {
   "cell_type": "markdown",
   "metadata": {},
   "source": [
    "## m = 2"
   ]
  },
  {
   "cell_type": "code",
   "execution_count": 85,
   "metadata": {
    "id": "ko89k93lgTRM"
   },
   "outputs": [],
   "source": [
    "#INFORMAÇÕES \n",
    "number_medoides = 12\n",
    "number_matrix_dissimility = 3 \n",
    "epsilon= 10e-10\n",
    "T= 150\n",
    "m = 2 # Ver se isso ta certo\n",
    "dataset = Z\n",
    "t=0"
   ]
  },
  {
   "cell_type": "code",
   "execution_count": 86,
   "metadata": {},
   "outputs": [],
   "source": [
    "#Escolhendo os medoides aleatoriamente\n",
    "medoides_zero,indices_zero = medoides_iniciais()\n",
    "#print('medoides iniciais', medoides_zero)"
   ]
  },
  {
   "cell_type": "code",
   "execution_count": 87,
   "metadata": {},
   "outputs": [],
   "source": [
    "lambdas_zero = pesos_init()"
   ]
  },
  {
   "cell_type": "code",
   "execution_count": 88,
   "metadata": {},
   "outputs": [],
   "source": [
    "# Matriz U\n",
    "U_inicial =matriz_u( medoides = medoides_zero,\n",
    "                       pesos = lambdas_zero,\n",
    "                       exemplos = Z, \n",
    "                       indices_impressos_medoides =indices_zero,\n",
    "                       param_m = m)\n"
   ]
  },
  {
   "cell_type": "code",
   "execution_count": 89,
   "metadata": {
    "colab": {
     "base_uri": "https://localhost:8080/",
     "height": 1000
    },
    "id": "0GEFo3A1hHAW",
    "outputId": "1a3c6453-b755-4911-8858-8e68af1d212c"
   },
   "outputs": [
    {
     "data": {
      "application/vnd.jupyter.widget-view+json": {
       "model_id": "d58c5eddfc644b61aafd28d20a1371b9",
       "version_major": 2,
       "version_minor": 0
      },
      "text/plain": [
       "HBox(children=(FloatProgress(value=0.0, max=12.0), HTML(value='')))"
      ]
     },
     "metadata": {},
     "output_type": "display_data"
    },
    {
     "name": "stdout",
     "output_type": "stream",
     "text": [
      "\n"
     ]
    }
   ],
   "source": [
    "# Custo inicial \n",
    "funcao_objetivo_inicial= atualizar_funcao_objetivo(pesos = lambdas_zero,\n",
    "                          matriz_u = U_inicial,\n",
    "                          centroides = medoides_zero,\n",
    "                          lista_impressa_indices = indices_zero,\n",
    "                          m_number = m\n",
    "                         )\n"
   ]
  },
  {
   "cell_type": "code",
   "execution_count": 90,
   "metadata": {},
   "outputs": [],
   "source": [
    "novo_objetivo = 0 \n"
   ]
  },
  {
   "cell_type": "code",
   "execution_count": null,
   "metadata": {},
   "outputs": [],
   "source": []
  },
  {
   "cell_type": "markdown",
   "metadata": {},
   "source": [
    "\n",
    "\n",
    "## m=1.1\n"
   ]
  },
  {
   "cell_type": "markdown",
   "metadata": {},
   "source": [
    "## m= 1.6"
   ]
  },
  {
   "cell_type": "code",
   "execution_count": null,
   "metadata": {},
   "outputs": [
    {
     "data": {
      "application/vnd.jupyter.widget-view+json": {
       "model_id": "28c29a9f08cb478b97d8695693d358e8",
       "version_major": 2,
       "version_minor": 0
      },
      "text/plain": [
       "HBox(children=(FloatProgress(value=0.0, max=12.0), HTML(value='')))"
      ]
     },
     "metadata": {},
     "output_type": "display_data"
    },
    {
     "name": "stdout",
     "output_type": "stream",
     "text": [
      "\n",
      "****** 8/50 ******\n"
     ]
    },
    {
     "data": {
      "application/vnd.jupyter.widget-view+json": {
       "model_id": "4cbca0089ba74c15831170b0029d6603",
       "version_major": 2,
       "version_minor": 0
      },
      "text/plain": [
       "HBox(children=(FloatProgress(value=0.0, max=12.0), HTML(value='')))"
      ]
     },
     "metadata": {},
     "output_type": "display_data"
    },
    {
     "name": "stdout",
     "output_type": "stream",
     "text": [
      "\n"
     ]
    },
    {
     "data": {
      "application/vnd.jupyter.widget-view+json": {
       "model_id": "eca27e39823c4552b95884ccab9987c1",
       "version_major": 2,
       "version_minor": 0
      },
      "text/plain": [
       "HBox(children=(FloatProgress(value=0.0, max=12.0), HTML(value='')))"
      ]
     },
     "metadata": {},
     "output_type": "display_data"
    },
    {
     "name": "stdout",
     "output_type": "stream",
     "text": [
      "\n",
      "Função objetivo atual 1.299019987621885\n",
      "diferença= 0.35372762930031765 epsilon= 1e-09\n",
      "A função objetivo ainda não convergiu. Estamos na iteração t =1 e i =8\n"
     ]
    },
    {
     "data": {
      "application/vnd.jupyter.widget-view+json": {
       "model_id": "9c68f84216a64bd4a086121f94314ad5",
       "version_major": 2,
       "version_minor": 0
      },
      "text/plain": [
       "HBox(children=(FloatProgress(value=0.0, max=12.0), HTML(value='')))"
      ]
     },
     "metadata": {},
     "output_type": "display_data"
    },
    {
     "name": "stdout",
     "output_type": "stream",
     "text": [
      "\n"
     ]
    },
    {
     "data": {
      "application/vnd.jupyter.widget-view+json": {
       "model_id": "66398de76b31454f81eb9343503f2948",
       "version_major": 2,
       "version_minor": 0
      },
      "text/plain": [
       "HBox(children=(FloatProgress(value=0.0, max=12.0), HTML(value='')))"
      ]
     },
     "metadata": {},
     "output_type": "display_data"
    },
    {
     "name": "stdout",
     "output_type": "stream",
     "text": [
      "\n",
      "Função objetivo atual 1.2902446426338994\n",
      "diferença= 0.008775344987985711 epsilon= 1e-09\n",
      "A função objetivo ainda não convergiu. Estamos na iteração t =2 e i =8\n"
     ]
    },
    {
     "data": {
      "application/vnd.jupyter.widget-view+json": {
       "model_id": "fcc22e448e244af28c2afce181a0bc5f",
       "version_major": 2,
       "version_minor": 0
      },
      "text/plain": [
       "HBox(children=(FloatProgress(value=0.0, max=12.0), HTML(value='')))"
      ]
     },
     "metadata": {},
     "output_type": "display_data"
    },
    {
     "name": "stdout",
     "output_type": "stream",
     "text": [
      "\n"
     ]
    },
    {
     "data": {
      "application/vnd.jupyter.widget-view+json": {
       "model_id": "3235a93b339f4944a1f5c494e1bf4dfd",
       "version_major": 2,
       "version_minor": 0
      },
      "text/plain": [
       "HBox(children=(FloatProgress(value=0.0, max=12.0), HTML(value='')))"
      ]
     },
     "metadata": {},
     "output_type": "display_data"
    },
    {
     "name": "stdout",
     "output_type": "stream",
     "text": [
      "\n",
      "Função objetivo atual 1.2887810670357125\n",
      "diferença= 0.0014635755981868837 epsilon= 1e-09\n",
      "A função objetivo ainda não convergiu. Estamos na iteração t =3 e i =8\n"
     ]
    },
    {
     "data": {
      "application/vnd.jupyter.widget-view+json": {
       "model_id": "227dc1b94bfd4324b121d6acda96da11",
       "version_major": 2,
       "version_minor": 0
      },
      "text/plain": [
       "HBox(children=(FloatProgress(value=0.0, max=12.0), HTML(value='')))"
      ]
     },
     "metadata": {},
     "output_type": "display_data"
    },
    {
     "name": "stdout",
     "output_type": "stream",
     "text": [
      "\n"
     ]
    },
    {
     "data": {
      "application/vnd.jupyter.widget-view+json": {
       "model_id": "2bd3ed7324b34b399afc01258a37ac53",
       "version_major": 2,
       "version_minor": 0
      },
      "text/plain": [
       "HBox(children=(FloatProgress(value=0.0, max=12.0), HTML(value='')))"
      ]
     },
     "metadata": {},
     "output_type": "display_data"
    },
    {
     "name": "stdout",
     "output_type": "stream",
     "text": [
      "\n",
      "Função objetivo atual 1.2890791998719593\n",
      "diferença= 0.00029813283624680054 epsilon= 1e-09\n",
      "A função objetivo ainda não convergiu. Estamos na iteração t =4 e i =8\n"
     ]
    },
    {
     "data": {
      "application/vnd.jupyter.widget-view+json": {
       "model_id": "f09d1ec00ae443cbb964e35d4a30e33c",
       "version_major": 2,
       "version_minor": 0
      },
      "text/plain": [
       "HBox(children=(FloatProgress(value=0.0, max=12.0), HTML(value='')))"
      ]
     },
     "metadata": {},
     "output_type": "display_data"
    },
    {
     "name": "stdout",
     "output_type": "stream",
     "text": [
      "\n"
     ]
    },
    {
     "data": {
      "application/vnd.jupyter.widget-view+json": {
       "model_id": "c94c903001714306b53f8596e706418f",
       "version_major": 2,
       "version_minor": 0
      },
      "text/plain": [
       "HBox(children=(FloatProgress(value=0.0, max=12.0), HTML(value='')))"
      ]
     },
     "metadata": {},
     "output_type": "display_data"
    },
    {
     "name": "stdout",
     "output_type": "stream",
     "text": [
      "\n",
      "Função objetivo atual 1.2883808416239533\n",
      "diferença= 0.0006983582480060146 epsilon= 1e-09\n",
      "A função objetivo ainda não convergiu. Estamos na iteração t =5 e i =8\n"
     ]
    },
    {
     "data": {
      "application/vnd.jupyter.widget-view+json": {
       "model_id": "366228ae46334d79932592b0d092c284",
       "version_major": 2,
       "version_minor": 0
      },
      "text/plain": [
       "HBox(children=(FloatProgress(value=0.0, max=12.0), HTML(value='')))"
      ]
     },
     "metadata": {},
     "output_type": "display_data"
    },
    {
     "name": "stdout",
     "output_type": "stream",
     "text": [
      "\n"
     ]
    },
    {
     "data": {
      "application/vnd.jupyter.widget-view+json": {
       "model_id": "d2b1c9e240ee4b1fada135f88214165d",
       "version_major": 2,
       "version_minor": 0
      },
      "text/plain": [
       "HBox(children=(FloatProgress(value=0.0, max=12.0), HTML(value='')))"
      ]
     },
     "metadata": {},
     "output_type": "display_data"
    },
    {
     "name": "stdout",
     "output_type": "stream",
     "text": [
      "\n",
      "Função objetivo atual 1.2880525375388454\n",
      "diferença= 0.0003283040851078667 epsilon= 1e-09\n",
      "A função objetivo ainda não convergiu. Estamos na iteração t =6 e i =8\n"
     ]
    },
    {
     "data": {
      "application/vnd.jupyter.widget-view+json": {
       "model_id": "3f8ce91128e047a3a3b1621f5838e6b6",
       "version_major": 2,
       "version_minor": 0
      },
      "text/plain": [
       "HBox(children=(FloatProgress(value=0.0, max=12.0), HTML(value='')))"
      ]
     },
     "metadata": {},
     "output_type": "display_data"
    },
    {
     "name": "stdout",
     "output_type": "stream",
     "text": [
      "\n"
     ]
    },
    {
     "data": {
      "application/vnd.jupyter.widget-view+json": {
       "model_id": "d166b81371d943f787c2d27453461005",
       "version_major": 2,
       "version_minor": 0
      },
      "text/plain": [
       "HBox(children=(FloatProgress(value=0.0, max=12.0), HTML(value='')))"
      ]
     },
     "metadata": {},
     "output_type": "display_data"
    },
    {
     "name": "stdout",
     "output_type": "stream",
     "text": [
      "\n",
      "Função objetivo atual 1.2881671267042334\n",
      "diferença= 0.00011458916538797936 epsilon= 1e-09\n",
      "A função objetivo ainda não convergiu. Estamos na iteração t =7 e i =8\n"
     ]
    },
    {
     "data": {
      "application/vnd.jupyter.widget-view+json": {
       "model_id": "b47e5cf13a584cfd90bed4811509cfb3",
       "version_major": 2,
       "version_minor": 0
      },
      "text/plain": [
       "HBox(children=(FloatProgress(value=0.0, max=12.0), HTML(value='')))"
      ]
     },
     "metadata": {},
     "output_type": "display_data"
    },
    {
     "name": "stdout",
     "output_type": "stream",
     "text": [
      "\n"
     ]
    },
    {
     "data": {
      "application/vnd.jupyter.widget-view+json": {
       "model_id": "c98f9439874f41048def3c1ce35bd29d",
       "version_major": 2,
       "version_minor": 0
      },
      "text/plain": [
       "HBox(children=(FloatProgress(value=0.0, max=12.0), HTML(value='')))"
      ]
     },
     "metadata": {},
     "output_type": "display_data"
    },
    {
     "name": "stdout",
     "output_type": "stream",
     "text": [
      "\n",
      "Função objetivo atual 1.2881665551923975\n",
      "diferença= 5.715118358562421e-07 epsilon= 1e-09\n",
      "A função objetivo ainda não convergiu. Estamos na iteração t =8 e i =8\n"
     ]
    },
    {
     "data": {
      "application/vnd.jupyter.widget-view+json": {
       "model_id": "ea8d0aae7e2b469ebc338c6c98f8dbae",
       "version_major": 2,
       "version_minor": 0
      },
      "text/plain": [
       "HBox(children=(FloatProgress(value=0.0, max=12.0), HTML(value='')))"
      ]
     },
     "metadata": {},
     "output_type": "display_data"
    },
    {
     "name": "stdout",
     "output_type": "stream",
     "text": [
      "\n"
     ]
    },
    {
     "data": {
      "application/vnd.jupyter.widget-view+json": {
       "model_id": "45455732b0b749aebb0aad796e44324d",
       "version_major": 2,
       "version_minor": 0
      },
      "text/plain": [
       "HBox(children=(FloatProgress(value=0.0, max=12.0), HTML(value='')))"
      ]
     },
     "metadata": {},
     "output_type": "display_data"
    },
    {
     "name": "stdout",
     "output_type": "stream",
     "text": [
      "\n",
      "Função objetivo atual 1.288166555158745\n",
      "diferença= 3.3652636233227895e-11 epsilon= 1e-09\n",
      "A função objetivo  convergiu na iteração t =9 e i =8\n"
     ]
    },
    {
     "data": {
      "application/vnd.jupyter.widget-view+json": {
       "model_id": "a7b4b58e089e489d8f1748da244fe5b2",
       "version_major": 2,
       "version_minor": 0
      },
      "text/plain": [
       "HBox(children=(FloatProgress(value=0.0, max=12.0), HTML(value='')))"
      ]
     },
     "metadata": {},
     "output_type": "display_data"
    },
    {
     "name": "stdout",
     "output_type": "stream",
     "text": [
      "\n",
      "****** 9/50 ******\n"
     ]
    },
    {
     "data": {
      "application/vnd.jupyter.widget-view+json": {
       "model_id": "49f4674b6f3f4606aa7f46f5e8038ab9",
       "version_major": 2,
       "version_minor": 0
      },
      "text/plain": [
       "HBox(children=(FloatProgress(value=0.0, max=12.0), HTML(value='')))"
      ]
     },
     "metadata": {},
     "output_type": "display_data"
    },
    {
     "name": "stdout",
     "output_type": "stream",
     "text": [
      "\n"
     ]
    },
    {
     "data": {
      "application/vnd.jupyter.widget-view+json": {
       "model_id": "748d4c3e0add43cbbaad666b6f8aba66",
       "version_major": 2,
       "version_minor": 0
      },
      "text/plain": [
       "HBox(children=(FloatProgress(value=0.0, max=12.0), HTML(value='')))"
      ]
     },
     "metadata": {},
     "output_type": "display_data"
    },
    {
     "name": "stdout",
     "output_type": "stream",
     "text": [
      "\n",
      "Função objetivo atual 1.2927367474351197\n",
      "diferença= 0.3330767681470249 epsilon= 1e-09\n",
      "A função objetivo ainda não convergiu. Estamos na iteração t =1 e i =9\n"
     ]
    },
    {
     "data": {
      "application/vnd.jupyter.widget-view+json": {
       "model_id": "5e6c816ad7c24797a5b636a62b9347ad",
       "version_major": 2,
       "version_minor": 0
      },
      "text/plain": [
       "HBox(children=(FloatProgress(value=0.0, max=12.0), HTML(value='')))"
      ]
     },
     "metadata": {},
     "output_type": "display_data"
    },
    {
     "name": "stdout",
     "output_type": "stream",
     "text": [
      "\n"
     ]
    },
    {
     "data": {
      "application/vnd.jupyter.widget-view+json": {
       "model_id": "3c700157a2274be8afc384ebc07ba9b1",
       "version_major": 2,
       "version_minor": 0
      },
      "text/plain": [
       "HBox(children=(FloatProgress(value=0.0, max=12.0), HTML(value='')))"
      ]
     },
     "metadata": {},
     "output_type": "display_data"
    },
    {
     "name": "stdout",
     "output_type": "stream",
     "text": [
      "\n",
      "Função objetivo atual 1.2909849664049533\n",
      "diferença= 0.0017517810301663772 epsilon= 1e-09\n",
      "A função objetivo ainda não convergiu. Estamos na iteração t =2 e i =9\n"
     ]
    },
    {
     "data": {
      "application/vnd.jupyter.widget-view+json": {
       "model_id": "7e21aadccfe3446e9227d57bed29ad66",
       "version_major": 2,
       "version_minor": 0
      },
      "text/plain": [
       "HBox(children=(FloatProgress(value=0.0, max=12.0), HTML(value='')))"
      ]
     },
     "metadata": {},
     "output_type": "display_data"
    },
    {
     "name": "stdout",
     "output_type": "stream",
     "text": [
      "\n"
     ]
    },
    {
     "data": {
      "application/vnd.jupyter.widget-view+json": {
       "model_id": "52bab1e5a8674b468832fff010f68498",
       "version_major": 2,
       "version_minor": 0
      },
      "text/plain": [
       "HBox(children=(FloatProgress(value=0.0, max=12.0), HTML(value='')))"
      ]
     },
     "metadata": {},
     "output_type": "display_data"
    },
    {
     "name": "stdout",
     "output_type": "stream",
     "text": [
      "\n",
      "Função objetivo atual 1.2907048962307788\n",
      "diferença= 0.0002800701741745293 epsilon= 1e-09\n",
      "A função objetivo ainda não convergiu. Estamos na iteração t =3 e i =9\n"
     ]
    },
    {
     "data": {
      "application/vnd.jupyter.widget-view+json": {
       "model_id": "19e051a1b89549a6a51248d3eb78c105",
       "version_major": 2,
       "version_minor": 0
      },
      "text/plain": [
       "HBox(children=(FloatProgress(value=0.0, max=12.0), HTML(value='')))"
      ]
     },
     "metadata": {},
     "output_type": "display_data"
    },
    {
     "name": "stdout",
     "output_type": "stream",
     "text": [
      "\n"
     ]
    },
    {
     "data": {
      "application/vnd.jupyter.widget-view+json": {
       "model_id": "259ea9967d60478c8059c1bd7818ee5d",
       "version_major": 2,
       "version_minor": 0
      },
      "text/plain": [
       "HBox(children=(FloatProgress(value=0.0, max=12.0), HTML(value='')))"
      ]
     },
     "metadata": {},
     "output_type": "display_data"
    },
    {
     "name": "stdout",
     "output_type": "stream",
     "text": [
      "\n",
      "Função objetivo atual 1.290930993091165\n",
      "diferença= 0.00022609686038621568 epsilon= 1e-09\n",
      "A função objetivo ainda não convergiu. Estamos na iteração t =4 e i =9\n"
     ]
    },
    {
     "data": {
      "application/vnd.jupyter.widget-view+json": {
       "model_id": "e1180e3b7f154b23a0338761f80409e9",
       "version_major": 2,
       "version_minor": 0
      },
      "text/plain": [
       "HBox(children=(FloatProgress(value=0.0, max=12.0), HTML(value='')))"
      ]
     },
     "metadata": {},
     "output_type": "display_data"
    },
    {
     "name": "stdout",
     "output_type": "stream",
     "text": [
      "\n"
     ]
    },
    {
     "data": {
      "application/vnd.jupyter.widget-view+json": {
       "model_id": "31c1d0e0730b45fe9bc66307cda064c6",
       "version_major": 2,
       "version_minor": 0
      },
      "text/plain": [
       "HBox(children=(FloatProgress(value=0.0, max=12.0), HTML(value='')))"
      ]
     },
     "metadata": {},
     "output_type": "display_data"
    },
    {
     "name": "stdout",
     "output_type": "stream",
     "text": [
      "\n",
      "Função objetivo atual 1.2909283324032\n",
      "diferença= 2.66068796506147e-06 epsilon= 1e-09\n",
      "A função objetivo ainda não convergiu. Estamos na iteração t =5 e i =9\n"
     ]
    },
    {
     "data": {
      "application/vnd.jupyter.widget-view+json": {
       "model_id": "975e019716494b039e3b390640a84653",
       "version_major": 2,
       "version_minor": 0
      },
      "text/plain": [
       "HBox(children=(FloatProgress(value=0.0, max=12.0), HTML(value='')))"
      ]
     },
     "metadata": {},
     "output_type": "display_data"
    },
    {
     "name": "stdout",
     "output_type": "stream",
     "text": [
      "\n"
     ]
    },
    {
     "data": {
      "application/vnd.jupyter.widget-view+json": {
       "model_id": "a04cc3286ae54728bd0d1c4e439a090d",
       "version_major": 2,
       "version_minor": 0
      },
      "text/plain": [
       "HBox(children=(FloatProgress(value=0.0, max=12.0), HTML(value='')))"
      ]
     },
     "metadata": {},
     "output_type": "display_data"
    },
    {
     "name": "stdout",
     "output_type": "stream",
     "text": [
      "\n",
      "Função objetivo atual 1.2909283367529674\n",
      "diferença= 4.3497674351300475e-09 epsilon= 1e-09\n",
      "A função objetivo ainda não convergiu. Estamos na iteração t =6 e i =9\n"
     ]
    },
    {
     "data": {
      "application/vnd.jupyter.widget-view+json": {
       "model_id": "9568866db3164471a15dade63f2e57a3",
       "version_major": 2,
       "version_minor": 0
      },
      "text/plain": [
       "HBox(children=(FloatProgress(value=0.0, max=12.0), HTML(value='')))"
      ]
     },
     "metadata": {},
     "output_type": "display_data"
    },
    {
     "name": "stdout",
     "output_type": "stream",
     "text": [
      "\n"
     ]
    },
    {
     "data": {
      "application/vnd.jupyter.widget-view+json": {
       "model_id": "df5de3e13a0146d18f0f98cb550ca871",
       "version_major": 2,
       "version_minor": 0
      },
      "text/plain": [
       "HBox(children=(FloatProgress(value=0.0, max=12.0), HTML(value='')))"
      ]
     },
     "metadata": {},
     "output_type": "display_data"
    },
    {
     "name": "stdout",
     "output_type": "stream",
     "text": [
      "\n",
      "Função objetivo atual 1.2909283369571523\n",
      "diferença= 2.0418489121709626e-10 epsilon= 1e-09\n",
      "A função objetivo  convergiu na iteração t =7 e i =9\n"
     ]
    }
   ],
   "source": [
    "for i in range(18,50):\n",
    "    #INFORMAÇÕES \n",
    "    number_medoides = 12\n",
    "    number_matrix_dissimility = 3 \n",
    "    epsilon= 10e-10\n",
    "    T= 150\n",
    "    m = 1.6 # Ver se isso ta certo\n",
    "    dataset = Z\n",
    "    t=0\n",
    "    #Escolhendo os medoides aleatoriamente\n",
    "    medoides_zero,indices_zero = medoides_iniciais()\n",
    "    #PESOS INICIAIS\n",
    "    lambdas_zero = pesos_init()\n",
    "    # Matriz U\n",
    "    U_inicial =matriz_u( medoides = medoides_zero,\n",
    "                       pesos = lambdas_zero,\n",
    "                       exemplos = Z, \n",
    "                       indices_impressos_medoides =indices_zero,\n",
    "                       param_m = m)\n",
    "    # Custo inicial \n",
    "    funcao_objetivo_inicial= atualizar_funcao_objetivo(pesos = lambdas_zero,\n",
    "                          matriz_u = U_inicial,\n",
    "                          centroides = medoides_zero,\n",
    "                          lista_impressa_indices = indices_zero,\n",
    "                          m_number = m\n",
    "                         )\n",
    "    novo_objetivo = 0 \n",
    "    mod= abs(funcao_objetivo_inicial - novo_objetivo)\n",
    "    print(f\"****** {i}/50 ******\")\n",
    "    \n",
    "    while (t<=T and mod> epsilon):\n",
    "        #print(t,T,mod, epsilon)\n",
    "        novos_medoides, novos_indices =  atualizar_g(m_number = m , matriz_u =U_inicial, dataset=dataset )\n",
    "        #print('Novos medoides', novos_medoides)\n",
    "        novos_pesos =  matriz_lambda(medoides = novos_medoides,\n",
    "                                     m_num = m,\n",
    "                                     matriz_u = U_inicial, \n",
    "                                     indices_dos_medoides = novos_indices)\n",
    "        U_novo = matriz_u( medoides = novos_medoides,\n",
    "                 pesos = novos_pesos,\n",
    "                 exemplos = dataset,\n",
    "                 indices_impressos_medoides = novos_indices,\n",
    "                 param_m = m)\n",
    "\n",
    "        novo_objetivo = atualizar_funcao_objetivo(pesos = novos_pesos,\n",
    "                              matriz_u = U_novo,\n",
    "                              centroides = novos_medoides,\n",
    "                              lista_impressa_indices = novos_indices,\n",
    "                              m_number = m\n",
    "                             )\n",
    "        with open(f\"iteracoes/itera1.6/funcao-objetivo-m=2-t={t}-iteracao{i}.npy\", 'wb') as f:\n",
    "            np.save(f, novo_objetivo)\n",
    "        with open( f\"iteracoes/itera1.6/matriz-u-m={m}-t={t}-iteracao{i}.npy\", 'wb') as q:\n",
    "            np.save(q, U_novo)\n",
    "        with open( f\"iteracoes/itera1.6/pesos-m={m}-{t}-iteracao{i}.npy\", 'wb') as s:\n",
    "            np.save(s, novos_pesos)\n",
    "        print('Função objetivo atual', novo_objetivo)\n",
    "        mod = abs(funcao_objetivo_inicial - novo_objetivo)\n",
    "        print('diferença=', mod, 'epsilon=',epsilon)\n",
    "        with open( f\"iteracoes/itera1.6/mod-m={m}-t={t}-iteracao{i}.npy\", 'wb') as r:\n",
    "            np.save(r, mod)\n",
    "        with open( f\"iteracoes/itera1.6/medoides-m={m}-t={t}-iteracao{i}.npy\", 'wb') as w:\n",
    "            np.save(w, novos_medoides)\n",
    "        with open( f\"iteracoes/itera1.6/indices-medoides-m={m}-t={t}-iteracao{i}.npy\", 'wb') as u:\n",
    "            np.save(u, novos_indices)\n",
    "        funcao_objetivo_inicial = novo_objetivo\n",
    "        U_inicial = U_novo\n",
    "        t+=1\n",
    "        if t==T:\n",
    "            print(f'As iterações T esgotaram. Estamos na iteração t ={t} e i ={i}')\n",
    "        elif mod<epsilon:\n",
    "            print(f'A função objetivo  convergiu na iteração t ={t} e i ={i}')\n",
    "        else:\n",
    "            print(f'A função objetivo ainda não convergiu. Estamos na iteração t ={t} e i ={i}')"
   ]
  },
  {
   "cell_type": "markdown",
   "metadata": {},
   "source": [
    "# Melhor resultado"
   ]
  },
  {
   "cell_type": "markdown",
   "metadata": {},
   "source": [
    "# Calcular coeficientes"
   ]
  },
  {
   "cell_type": "markdown",
   "metadata": {},
   "source": [
    "# Calcular a partição "
   ]
  },
  {
   "cell_type": "code",
   "execution_count": null,
   "metadata": {},
   "outputs": [],
   "source": []
  }
 ],
 "metadata": {
  "accelerator": "GPU",
  "colab": {
   "collapsed_sections": [],
   "machine_shape": "hm",
   "name": "Questão 1 - Projeto .ipynb",
   "provenance": [],
   "toc_visible": true
  },
  "kernelspec": {
   "display_name": "PyTorch 1.8 (NGC 20.11/Python 3.6 Conda) on Backend.AI",
   "language": "python",
   "name": "python3"
  },
  "language_info": {
   "codemirror_mode": {
    "name": "ipython",
    "version": 3
   },
   "file_extension": ".py",
   "mimetype": "text/x-python",
   "name": "python",
   "nbconvert_exporter": "python",
   "pygments_lexer": "ipython3",
   "version": "3.6.10"
  }
 },
 "nbformat": 4,
 "nbformat_minor": 1
}
